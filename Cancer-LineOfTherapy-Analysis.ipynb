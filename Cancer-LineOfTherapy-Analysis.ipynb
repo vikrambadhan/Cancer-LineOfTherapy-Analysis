{
  "nbformat": 4,
  "nbformat_minor": 0,
  "metadata": {
    "colab": {
      "provenance": []
    },
    "kernelspec": {
      "name": "python3",
      "display_name": "Python 3"
    },
    "language_info": {
      "name": "python"
    }
  },
  "cells": [
    {
      "cell_type": "markdown",
      "source": [
        "#**Cancer Line of Therapy - Analysis**\n"
      ],
      "metadata": {
        "id": "OJB9F5N3Quy1"
      }
    },
    {
      "cell_type": "markdown",
      "source": [
        "**Step 1 : Installing and Importing Pyspark into our notebook**"
      ],
      "metadata": {
        "id": "or-h48VMQ91r"
      }
    },
    {
      "cell_type": "code",
      "execution_count": null,
      "metadata": {
        "colab": {
          "base_uri": "https://localhost:8080/"
        },
        "id": "-faodLyaMuFy",
        "outputId": "70c22feb-d408-47c3-9337-fc77d97ce288"
      },
      "outputs": [
        {
          "output_type": "stream",
          "name": "stdout",
          "text": [
            "Collecting pyspark\n",
            "  Downloading pyspark-3.5.1.tar.gz (317.0 MB)\n",
            "\u001b[2K     \u001b[90m━━━━━━━━━━━━━━━━━━━━━━━━━━━━━━━━━━━━━━━━\u001b[0m \u001b[32m317.0/317.0 MB\u001b[0m \u001b[31m3.6 MB/s\u001b[0m eta \u001b[36m0:00:00\u001b[0m\n",
            "\u001b[?25h  Preparing metadata (setup.py) ... \u001b[?25l\u001b[?25hdone\n",
            "Requirement already satisfied: py4j==0.10.9.7 in /usr/local/lib/python3.10/dist-packages (from pyspark) (0.10.9.7)\n",
            "Building wheels for collected packages: pyspark\n",
            "  Building wheel for pyspark (setup.py) ... \u001b[?25l\u001b[?25hdone\n",
            "  Created wheel for pyspark: filename=pyspark-3.5.1-py2.py3-none-any.whl size=317488490 sha256=51983a3aa8d6bb5e79efd14971f77cce86313aa81e8a9ae7fe55f3f8cdfe2256\n",
            "  Stored in directory: /root/.cache/pip/wheels/80/1d/60/2c256ed38dddce2fdd93be545214a63e02fbd8d74fb0b7f3a6\n",
            "Successfully built pyspark\n",
            "Installing collected packages: pyspark\n",
            "Successfully installed pyspark-3.5.1\n"
          ]
        }
      ],
      "source": [
        "!pip3 install pyspark\n",
        "import pyspark"
      ]
    },
    {
      "cell_type": "markdown",
      "source": [
        "**Step 2 : Starting a Spark Session and Setting logs**"
      ],
      "metadata": {
        "id": "HxogYp35Qfeq"
      }
    },
    {
      "cell_type": "code",
      "source": [
        "# Starting a Spark Session with app name \"Line-of-Therapy\"\n",
        "from pyspark.sql import SparkSession\n",
        "spark = pyspark.sql.SparkSession.builder\\\n",
        "        .master('local[*]')\\\n",
        "        .appName('Line-of-Therapy')\\\n",
        "        .getOrCreate()"
      ],
      "metadata": {
        "id": "FoHR-zC_NRPg"
      },
      "execution_count": null,
      "outputs": []
    },
    {
      "cell_type": "code",
      "source": [
        "#Setting log\n",
        "sc = spark.sparkContext\n",
        "sc.setLogLevel(\"ERROR\")\n",
        "sc"
      ],
      "metadata": {
        "colab": {
          "base_uri": "https://localhost:8080/",
          "height": 196
        },
        "id": "RObCk0eANRSa",
        "outputId": "b492414f-2d12-49c9-ee56-fc656fe63c25"
      },
      "execution_count": null,
      "outputs": [
        {
          "output_type": "execute_result",
          "data": {
            "text/plain": [
              "<SparkContext master=local[*] appName=Line-of-Therapy>"
            ],
            "text/html": [
              "\n",
              "        <div>\n",
              "            <p><b>SparkContext</b></p>\n",
              "\n",
              "            <p><a href=\"http://96b2e45ec47e:4040\">Spark UI</a></p>\n",
              "\n",
              "            <dl>\n",
              "              <dt>Version</dt>\n",
              "                <dd><code>v3.5.1</code></dd>\n",
              "              <dt>Master</dt>\n",
              "                <dd><code>local[*]</code></dd>\n",
              "              <dt>AppName</dt>\n",
              "                <dd><code>Line-of-Therapy</code></dd>\n",
              "            </dl>\n",
              "        </div>\n",
              "        "
            ]
          },
          "metadata": {},
          "execution_count": 61
        }
      ]
    },
    {
      "cell_type": "markdown",
      "source": [
        "**Step 3 : Importing the Data from CSV File and checking the Schema**"
      ],
      "metadata": {
        "id": "KIUmpADOTXow"
      }
    },
    {
      "cell_type": "code",
      "source": [
        "# Loading the data from CSV file\n",
        "file_path = \"/content/sample_data/cancer_data2.csv\"\n",
        "df = spark.read.csv(file_path, header=True, inferSchema=True)\n",
        "\n",
        "#Printing the schema to check datatype of each column specifically to check date columns\n",
        "df.printSchema();\n",
        "\n",
        "#Printing the Dataframe\n",
        "df.show();"
      ],
      "metadata": {
        "colab": {
          "base_uri": "https://localhost:8080/"
        },
        "id": "ee2Qjf8iNRVE",
        "outputId": "8cccc00c-f33c-4c0b-bf9d-d36e07dd209c"
      },
      "execution_count": null,
      "outputs": [
        {
          "output_type": "stream",
          "name": "stdout",
          "text": [
            "root\n",
            " |-- patient_ID: string (nullable = true)\n",
            " |-- drug_date: string (nullable = true)\n",
            " |-- drug: string (nullable = true)\n",
            " |-- days_of_supply: integer (nullable = true)\n",
            " |-- class: string (nullable = true)\n",
            " |-- drug_start_date: date (nullable = true)\n",
            " |-- drug_end_date: date (nullable = true)\n",
            "\n",
            "+----------+----------+-----------+--------------+-----+---------------+-------------+\n",
            "|patient_ID| drug_date|       drug|days_of_supply|class|drug_start_date|drug_end_date|\n",
            "+----------+----------+-----------+--------------+-----+---------------+-------------+\n",
            "| PATID_001|  5-Dec-13| PACLITAXEL|             0|CHEMO|     2013-12-05|   2013-12-05|\n",
            "| PATID_001|  5-Dec-13|CARBOPLATIN|             0|CHEMO|     2013-12-05|   2013-12-05|\n",
            "| PATID_001| 31-Dec-13|CARBOPLATIN|             0|CHEMO|     2013-12-31|   2013-12-31|\n",
            "| PATID_001| 31-Dec-13| PACLITAXEL|             0|CHEMO|     2013-12-31|   2013-12-31|\n",
            "| PATID_001| 30-Jan-14|CARBOPLATIN|             0|CHEMO|     2014-01-30|   2014-01-30|\n",
            "| PATID_001| 30-Jan-14| PACLITAXEL|             0|CHEMO|     2014-01-30|   2014-01-30|\n",
            "| PATID_001| 14-Sep-15|CARBOPLATIN|             0|CHEMO|     2015-09-14|   2015-09-14|\n",
            "| PATID_001| 14-Sep-15| PACLITAXEL|             0|CHEMO|     2015-09-14|   2015-09-14|\n",
            "| PATID_001|  8-Oct-15|CARBOPLATIN|             0|CHEMO|     2015-10-08|   2015-10-08|\n",
            "| PATID_001|  8-Oct-15| PACLITAXEL|             0|CHEMO|     2015-10-08|   2015-10-08|\n",
            "| PATID_001| 29-Oct-15|CARBOPLATIN|             0|CHEMO|     2015-10-29|   2015-10-29|\n",
            "| PATID_001| 29-Oct-15| PACLITAXEL|             0|CHEMO|     2015-10-29|   2015-10-29|\n",
            "| PATID_001| 19-Nov-15| PACLITAXEL|             0|CHEMO|     2015-11-19|   2015-11-19|\n",
            "| PATID_001| 19-Nov-15|CARBOPLATIN|             0|CHEMO|     2015-11-19|   2015-11-19|\n",
            "| PATID_001| 18-Apr-18|  LETROZOLE|            30|HORMO|     2018-04-18|   2018-04-18|\n",
            "| PATID_001|22-June-18|CARBOPLATIN|             0|CHEMO|     2018-06-22|   2018-06-22|\n",
            "| PATID_001|22-June-18|  LIPOSOMAL|             0|CHEMO|     2018-06-22|   2018-06-22|\n",
            "| PATID_001|22-june-18|DOXORUBICIN|             0|CHEMO|     2018-06-22|   2018-06-22|\n",
            "| PATID_001| 20-Nov-18|   OLAPARIB|             0|OLAPA|     2018-11-20|   2018-11-20|\n",
            "| PATID_001|05-June-19| PACLITAXEL|             0|CHEMO|     2019-06-05|   2019-06-05|\n",
            "+----------+----------+-----------+--------------+-----+---------------+-------------+\n",
            "\n"
          ]
        }
      ]
    },
    {
      "cell_type": "markdown",
      "source": [
        "**Step 4 : Importing necessary libraries and defining the Window Specification**"
      ],
      "metadata": {
        "id": "OhrxEHTiTmv5"
      }
    },
    {
      "cell_type": "code",
      "source": [
        "#Importing Necessary Libraries\n",
        "\n",
        "from pyspark.sql.functions import col, lit, lag, when, sum, concat_ws, collect_set, datediff, max as sql_max, row_number\n",
        "from pyspark.sql.window import Window\n",
        "#import pyspark.sql.functions as F\n",
        "\n",
        "#Defining Window Specification - ordering by drug start date within each patient group\n",
        "date_window = Window.partitionBy(\"patient_ID\").orderBy(\"drug_start_date\")\n"
      ],
      "metadata": {
        "id": "QDd-i3WMNRXn"
      },
      "execution_count": null,
      "outputs": []
    },
    {
      "cell_type": "markdown",
      "source": [
        "**Step 5 : Calculating the gap between treatments to determine when a new line of therapy should start**"
      ],
      "metadata": {
        "id": "-MBlMhDmVsPN"
      }
    },
    {
      "cell_type": "code",
      "source": [
        "# Computing the end date of the previous treatment within the same patient group\n",
        "# 'previous_end_date' stores the drug end date of the previous row within the same patient group\n",
        "df = df.withColumn(\"previous_end_date\", lag(df.drug_end_date).over(date_window))\n",
        "\n",
        "# Calculating the number of days between the current treatment start and the previous treatment end\n",
        "# 'days_between' calculates the days between the current drug's start date and the previous drug's end date\n",
        "df = df.withColumn(\"days_between\", when(col(\"previous_end_date\").isNotNull(),\n",
        "                                        datediff(col(\"drug_start_date\"), col(\"previous_end_date\"))).otherwise(0))\n",
        "\n",
        "# Printing DataFrame with the new 'days_between' column\n",
        "df.show(truncate=False)\n"
      ],
      "metadata": {
        "colab": {
          "base_uri": "https://localhost:8080/"
        },
        "id": "bPYxJXMjNRaE",
        "outputId": "2bbfc108-0a51-4faf-c147-c8b450d51dfd"
      },
      "execution_count": null,
      "outputs": [
        {
          "output_type": "stream",
          "name": "stdout",
          "text": [
            "+----------+----------+-----------+--------------+-----+---------------+-------------+-----------------+------------+\n",
            "|patient_ID|drug_date |drug       |days_of_supply|class|drug_start_date|drug_end_date|previous_end_date|days_between|\n",
            "+----------+----------+-----------+--------------+-----+---------------+-------------+-----------------+------------+\n",
            "|PATID_001 |5-Dec-13  |PACLITAXEL |0             |CHEMO|2013-12-05     |2013-12-05   |NULL             |0           |\n",
            "|PATID_001 |5-Dec-13  |CARBOPLATIN|0             |CHEMO|2013-12-05     |2013-12-05   |2013-12-05       |0           |\n",
            "|PATID_001 |31-Dec-13 |CARBOPLATIN|0             |CHEMO|2013-12-31     |2013-12-31   |2013-12-05       |26          |\n",
            "|PATID_001 |31-Dec-13 |PACLITAXEL |0             |CHEMO|2013-12-31     |2013-12-31   |2013-12-31       |0           |\n",
            "|PATID_001 |30-Jan-14 |CARBOPLATIN|0             |CHEMO|2014-01-30     |2014-01-30   |2013-12-31       |30          |\n",
            "|PATID_001 |30-Jan-14 |PACLITAXEL |0             |CHEMO|2014-01-30     |2014-01-30   |2014-01-30       |0           |\n",
            "|PATID_001 |14-Sep-15 |CARBOPLATIN|0             |CHEMO|2015-09-14     |2015-09-14   |2014-01-30       |592         |\n",
            "|PATID_001 |14-Sep-15 |PACLITAXEL |0             |CHEMO|2015-09-14     |2015-09-14   |2015-09-14       |0           |\n",
            "|PATID_001 |8-Oct-15  |CARBOPLATIN|0             |CHEMO|2015-10-08     |2015-10-08   |2015-09-14       |24          |\n",
            "|PATID_001 |8-Oct-15  |PACLITAXEL |0             |CHEMO|2015-10-08     |2015-10-08   |2015-10-08       |0           |\n",
            "|PATID_001 |29-Oct-15 |CARBOPLATIN|0             |CHEMO|2015-10-29     |2015-10-29   |2015-10-08       |21          |\n",
            "|PATID_001 |29-Oct-15 |PACLITAXEL |0             |CHEMO|2015-10-29     |2015-10-29   |2015-10-29       |0           |\n",
            "|PATID_001 |19-Nov-15 |PACLITAXEL |0             |CHEMO|2015-11-19     |2015-11-19   |2015-10-29       |21          |\n",
            "|PATID_001 |19-Nov-15 |CARBOPLATIN|0             |CHEMO|2015-11-19     |2015-11-19   |2015-11-19       |0           |\n",
            "|PATID_001 |18-Apr-18 |LETROZOLE  |30            |HORMO|2018-04-18     |2018-04-18   |2015-11-19       |881         |\n",
            "|PATID_001 |22-June-18|CARBOPLATIN|0             |CHEMO|2018-06-22     |2018-06-22   |2018-04-18       |65          |\n",
            "|PATID_001 |22-June-18|LIPOSOMAL  |0             |CHEMO|2018-06-22     |2018-06-22   |2018-06-22       |0           |\n",
            "|PATID_001 |22-june-18|DOXORUBICIN|0             |CHEMO|2018-06-22     |2018-06-22   |2018-06-22       |0           |\n",
            "|PATID_001 |20-Nov-18 |OLAPARIB   |0             |OLAPA|2018-11-20     |2018-11-20   |2018-06-22       |151         |\n",
            "|PATID_001 |05-June-19|PACLITAXEL |0             |CHEMO|2019-06-05     |2019-06-05   |2018-11-20       |197         |\n",
            "+----------+----------+-----------+--------------+-----+---------------+-------------+-----------------+------------+\n",
            "\n"
          ]
        }
      ]
    },
    {
      "cell_type": "markdown",
      "source": [
        "**Step 6 : Flag new lines based on the gap days**"
      ],
      "metadata": {
        "id": "pBhdb_qrWBNH"
      }
    },
    {
      "cell_type": "code",
      "source": [
        "# Gap days\n",
        "gap_days = 45\n",
        "\n",
        "# Flaging a new therapy line if the gap between treatments exceeds 45 days\n",
        "df = df.withColumn(\"new_line\", when(col(\"days_between\") > gap_days, 1).otherwise(0))\n",
        "\n",
        "# Accumulating the flags to assign a unique identifier to each line of therapy\n",
        "df = df.withColumn(\"cumulative_line\", sum(\"new_line\").over(date_window.rowsBetween(Window.unboundedPreceding, 0)))\n",
        "\n",
        "# Printing DataFrame with the new 'cumulative_line' column\n",
        "df.show(truncate=False)\n"
      ],
      "metadata": {
        "colab": {
          "base_uri": "https://localhost:8080/"
        },
        "id": "nJ9QK1zONRcg",
        "outputId": "f3ab61fb-b29b-44ad-d153-d6f1234148fc"
      },
      "execution_count": null,
      "outputs": [
        {
          "output_type": "stream",
          "name": "stdout",
          "text": [
            "+----------+----------+-----------+--------------+-----+---------------+-------------+-----------------+------------+--------+---------------+\n",
            "|patient_ID|drug_date |drug       |days_of_supply|class|drug_start_date|drug_end_date|previous_end_date|days_between|new_line|cumulative_line|\n",
            "+----------+----------+-----------+--------------+-----+---------------+-------------+-----------------+------------+--------+---------------+\n",
            "|PATID_001 |5-Dec-13  |PACLITAXEL |0             |CHEMO|2013-12-05     |2013-12-05   |NULL             |0           |0       |0              |\n",
            "|PATID_001 |5-Dec-13  |CARBOPLATIN|0             |CHEMO|2013-12-05     |2013-12-05   |2013-12-05       |0           |0       |0              |\n",
            "|PATID_001 |31-Dec-13 |CARBOPLATIN|0             |CHEMO|2013-12-31     |2013-12-31   |2013-12-05       |26          |0       |0              |\n",
            "|PATID_001 |31-Dec-13 |PACLITAXEL |0             |CHEMO|2013-12-31     |2013-12-31   |2013-12-31       |0           |0       |0              |\n",
            "|PATID_001 |30-Jan-14 |CARBOPLATIN|0             |CHEMO|2014-01-30     |2014-01-30   |2013-12-31       |30          |0       |0              |\n",
            "|PATID_001 |30-Jan-14 |PACLITAXEL |0             |CHEMO|2014-01-30     |2014-01-30   |2014-01-30       |0           |0       |0              |\n",
            "|PATID_001 |14-Sep-15 |CARBOPLATIN|0             |CHEMO|2015-09-14     |2015-09-14   |2014-01-30       |592         |1       |1              |\n",
            "|PATID_001 |14-Sep-15 |PACLITAXEL |0             |CHEMO|2015-09-14     |2015-09-14   |2015-09-14       |0           |0       |1              |\n",
            "|PATID_001 |8-Oct-15  |CARBOPLATIN|0             |CHEMO|2015-10-08     |2015-10-08   |2015-09-14       |24          |0       |1              |\n",
            "|PATID_001 |8-Oct-15  |PACLITAXEL |0             |CHEMO|2015-10-08     |2015-10-08   |2015-10-08       |0           |0       |1              |\n",
            "|PATID_001 |29-Oct-15 |CARBOPLATIN|0             |CHEMO|2015-10-29     |2015-10-29   |2015-10-08       |21          |0       |1              |\n",
            "|PATID_001 |29-Oct-15 |PACLITAXEL |0             |CHEMO|2015-10-29     |2015-10-29   |2015-10-29       |0           |0       |1              |\n",
            "|PATID_001 |19-Nov-15 |PACLITAXEL |0             |CHEMO|2015-11-19     |2015-11-19   |2015-10-29       |21          |0       |1              |\n",
            "|PATID_001 |19-Nov-15 |CARBOPLATIN|0             |CHEMO|2015-11-19     |2015-11-19   |2015-11-19       |0           |0       |1              |\n",
            "|PATID_001 |18-Apr-18 |LETROZOLE  |30            |HORMO|2018-04-18     |2018-04-18   |2015-11-19       |881         |1       |2              |\n",
            "|PATID_001 |22-June-18|CARBOPLATIN|0             |CHEMO|2018-06-22     |2018-06-22   |2018-04-18       |65          |1       |3              |\n",
            "|PATID_001 |22-June-18|LIPOSOMAL  |0             |CHEMO|2018-06-22     |2018-06-22   |2018-06-22       |0           |0       |3              |\n",
            "|PATID_001 |22-june-18|DOXORUBICIN|0             |CHEMO|2018-06-22     |2018-06-22   |2018-06-22       |0           |0       |3              |\n",
            "|PATID_001 |20-Nov-18 |OLAPARIB   |0             |OLAPA|2018-11-20     |2018-11-20   |2018-06-22       |151         |1       |4              |\n",
            "|PATID_001 |05-June-19|PACLITAXEL |0             |CHEMO|2019-06-05     |2019-06-05   |2018-11-20       |197         |1       |5              |\n",
            "+----------+----------+-----------+--------------+-----+---------------+-------------+-----------------+------------+--------+---------------+\n",
            "\n"
          ]
        }
      ]
    },
    {
      "cell_type": "markdown",
      "source": [
        "**Step 7: Collecting unique drugs for each therapy line**"
      ],
      "metadata": {
        "id": "bvsoqndQWSag"
      }
    },
    {
      "cell_type": "code",
      "source": [
        "# Collecting unique drugs within each identified therapy line\n",
        "# 'drugs_in_line' collects unique drugs within each therapy line identified by 'cumulative_line'\n",
        "df = df.withColumn(\"drugs_in_line\", collect_set(\"drug\").over(Window.partitionBy(\"patient_ID\", \"cumulative_line\")))\n",
        "\n",
        "# Concatenating the unique drugs into a string to represent the regimen for each line\n",
        "# 'Line_regimen' concatenates the collected unique drugs into a string for each line\n",
        "df = df.withColumn(\"Line_regimen\", concat_ws(\" + \", col(\"drugs_in_line\")))\n",
        "\n",
        "# Printing DataFrame with the new 'Line_regimen' column\n",
        "df.show(truncate=False)\n"
      ],
      "metadata": {
        "colab": {
          "base_uri": "https://localhost:8080/"
        },
        "id": "5vsiLLbgNRf-",
        "outputId": "0444bc9b-cec2-4194-d095-04949a475f5b"
      },
      "execution_count": null,
      "outputs": [
        {
          "output_type": "stream",
          "name": "stdout",
          "text": [
            "+----------+----------+-----------+--------------+-----+---------------+-------------+-----------------+------------+--------+---------------+-------------------------------------+-------------------------------------+\n",
            "|patient_ID|drug_date |drug       |days_of_supply|class|drug_start_date|drug_end_date|previous_end_date|days_between|new_line|cumulative_line|drugs_in_line                        |Line_regimen                         |\n",
            "+----------+----------+-----------+--------------+-----+---------------+-------------+-----------------+------------+--------+---------------+-------------------------------------+-------------------------------------+\n",
            "|PATID_001 |5-Dec-13  |PACLITAXEL |0             |CHEMO|2013-12-05     |2013-12-05   |NULL             |0           |0       |0              |[PACLITAXEL, CARBOPLATIN]            |PACLITAXEL + CARBOPLATIN             |\n",
            "|PATID_001 |5-Dec-13  |CARBOPLATIN|0             |CHEMO|2013-12-05     |2013-12-05   |2013-12-05       |0           |0       |0              |[PACLITAXEL, CARBOPLATIN]            |PACLITAXEL + CARBOPLATIN             |\n",
            "|PATID_001 |31-Dec-13 |CARBOPLATIN|0             |CHEMO|2013-12-31     |2013-12-31   |2013-12-05       |26          |0       |0              |[PACLITAXEL, CARBOPLATIN]            |PACLITAXEL + CARBOPLATIN             |\n",
            "|PATID_001 |31-Dec-13 |PACLITAXEL |0             |CHEMO|2013-12-31     |2013-12-31   |2013-12-31       |0           |0       |0              |[PACLITAXEL, CARBOPLATIN]            |PACLITAXEL + CARBOPLATIN             |\n",
            "|PATID_001 |30-Jan-14 |CARBOPLATIN|0             |CHEMO|2014-01-30     |2014-01-30   |2013-12-31       |30          |0       |0              |[PACLITAXEL, CARBOPLATIN]            |PACLITAXEL + CARBOPLATIN             |\n",
            "|PATID_001 |30-Jan-14 |PACLITAXEL |0             |CHEMO|2014-01-30     |2014-01-30   |2014-01-30       |0           |0       |0              |[PACLITAXEL, CARBOPLATIN]            |PACLITAXEL + CARBOPLATIN             |\n",
            "|PATID_001 |14-Sep-15 |CARBOPLATIN|0             |CHEMO|2015-09-14     |2015-09-14   |2014-01-30       |592         |1       |1              |[PACLITAXEL, CARBOPLATIN]            |PACLITAXEL + CARBOPLATIN             |\n",
            "|PATID_001 |14-Sep-15 |PACLITAXEL |0             |CHEMO|2015-09-14     |2015-09-14   |2015-09-14       |0           |0       |1              |[PACLITAXEL, CARBOPLATIN]            |PACLITAXEL + CARBOPLATIN             |\n",
            "|PATID_001 |8-Oct-15  |CARBOPLATIN|0             |CHEMO|2015-10-08     |2015-10-08   |2015-09-14       |24          |0       |1              |[PACLITAXEL, CARBOPLATIN]            |PACLITAXEL + CARBOPLATIN             |\n",
            "|PATID_001 |8-Oct-15  |PACLITAXEL |0             |CHEMO|2015-10-08     |2015-10-08   |2015-10-08       |0           |0       |1              |[PACLITAXEL, CARBOPLATIN]            |PACLITAXEL + CARBOPLATIN             |\n",
            "|PATID_001 |29-Oct-15 |CARBOPLATIN|0             |CHEMO|2015-10-29     |2015-10-29   |2015-10-08       |21          |0       |1              |[PACLITAXEL, CARBOPLATIN]            |PACLITAXEL + CARBOPLATIN             |\n",
            "|PATID_001 |29-Oct-15 |PACLITAXEL |0             |CHEMO|2015-10-29     |2015-10-29   |2015-10-29       |0           |0       |1              |[PACLITAXEL, CARBOPLATIN]            |PACLITAXEL + CARBOPLATIN             |\n",
            "|PATID_001 |19-Nov-15 |PACLITAXEL |0             |CHEMO|2015-11-19     |2015-11-19   |2015-10-29       |21          |0       |1              |[PACLITAXEL, CARBOPLATIN]            |PACLITAXEL + CARBOPLATIN             |\n",
            "|PATID_001 |19-Nov-15 |CARBOPLATIN|0             |CHEMO|2015-11-19     |2015-11-19   |2015-11-19       |0           |0       |1              |[PACLITAXEL, CARBOPLATIN]            |PACLITAXEL + CARBOPLATIN             |\n",
            "|PATID_001 |18-Apr-18 |LETROZOLE  |30            |HORMO|2018-04-18     |2018-04-18   |2015-11-19       |881         |1       |2              |[LETROZOLE]                          |LETROZOLE                            |\n",
            "|PATID_001 |22-June-18|CARBOPLATIN|0             |CHEMO|2018-06-22     |2018-06-22   |2018-04-18       |65          |1       |3              |[LIPOSOMAL, CARBOPLATIN, DOXORUBICIN]|LIPOSOMAL + CARBOPLATIN + DOXORUBICIN|\n",
            "|PATID_001 |22-June-18|LIPOSOMAL  |0             |CHEMO|2018-06-22     |2018-06-22   |2018-06-22       |0           |0       |3              |[LIPOSOMAL, CARBOPLATIN, DOXORUBICIN]|LIPOSOMAL + CARBOPLATIN + DOXORUBICIN|\n",
            "|PATID_001 |22-june-18|DOXORUBICIN|0             |CHEMO|2018-06-22     |2018-06-22   |2018-06-22       |0           |0       |3              |[LIPOSOMAL, CARBOPLATIN, DOXORUBICIN]|LIPOSOMAL + CARBOPLATIN + DOXORUBICIN|\n",
            "|PATID_001 |20-Nov-18 |OLAPARIB   |0             |OLAPA|2018-11-20     |2018-11-20   |2018-06-22       |151         |1       |4              |[OLAPARIB]                           |OLAPARIB                             |\n",
            "|PATID_001 |05-June-19|PACLITAXEL |0             |CHEMO|2019-06-05     |2019-06-05   |2018-11-20       |197         |1       |5              |[PACLITAXEL]                         |PACLITAXEL                           |\n",
            "+----------+----------+-----------+--------------+-----+---------------+-------------+-----------------+------------+--------+---------------+-------------------------------------+-------------------------------------+\n",
            "\n"
          ]
        }
      ]
    },
    {
      "cell_type": "markdown",
      "source": [
        "**Step 8 : Generating line identifiers**"
      ],
      "metadata": {
        "id": "wWQWt2HqXFVO"
      }
    },
    {
      "cell_type": "code",
      "source": [
        "# Creating a line identifier by concatenating 'L' with the line number\n",
        "df = df.withColumn(\"Line\", concat_ws(\"\", lit(\"L\"), col(\"cumulative_line\") + 1))\n",
        "\n",
        "# Printing DataFrame with the new line identifiers\n",
        "df.show(truncate=False)"
      ],
      "metadata": {
        "colab": {
          "base_uri": "https://localhost:8080/"
        },
        "id": "k7VzBSVcVEkR",
        "outputId": "e9a03bcc-c9fa-4323-eb79-0efd172f60c5"
      },
      "execution_count": null,
      "outputs": [
        {
          "output_type": "stream",
          "name": "stdout",
          "text": [
            "+----------+----------+-----------+--------------+-----+---------------+-------------+-----------------+------------+--------+---------------+-------------------------------------+-------------------------------------+----+\n",
            "|patient_ID|drug_date |drug       |days_of_supply|class|drug_start_date|drug_end_date|previous_end_date|days_between|new_line|cumulative_line|drugs_in_line                        |Line_regimen                         |Line|\n",
            "+----------+----------+-----------+--------------+-----+---------------+-------------+-----------------+------------+--------+---------------+-------------------------------------+-------------------------------------+----+\n",
            "|PATID_001 |5-Dec-13  |PACLITAXEL |0             |CHEMO|2013-12-05     |2013-12-05   |NULL             |0           |0       |0              |[PACLITAXEL, CARBOPLATIN]            |PACLITAXEL + CARBOPLATIN             |L1  |\n",
            "|PATID_001 |5-Dec-13  |CARBOPLATIN|0             |CHEMO|2013-12-05     |2013-12-05   |2013-12-05       |0           |0       |0              |[PACLITAXEL, CARBOPLATIN]            |PACLITAXEL + CARBOPLATIN             |L1  |\n",
            "|PATID_001 |31-Dec-13 |CARBOPLATIN|0             |CHEMO|2013-12-31     |2013-12-31   |2013-12-05       |26          |0       |0              |[PACLITAXEL, CARBOPLATIN]            |PACLITAXEL + CARBOPLATIN             |L1  |\n",
            "|PATID_001 |31-Dec-13 |PACLITAXEL |0             |CHEMO|2013-12-31     |2013-12-31   |2013-12-31       |0           |0       |0              |[PACLITAXEL, CARBOPLATIN]            |PACLITAXEL + CARBOPLATIN             |L1  |\n",
            "|PATID_001 |30-Jan-14 |CARBOPLATIN|0             |CHEMO|2014-01-30     |2014-01-30   |2013-12-31       |30          |0       |0              |[PACLITAXEL, CARBOPLATIN]            |PACLITAXEL + CARBOPLATIN             |L1  |\n",
            "|PATID_001 |30-Jan-14 |PACLITAXEL |0             |CHEMO|2014-01-30     |2014-01-30   |2014-01-30       |0           |0       |0              |[PACLITAXEL, CARBOPLATIN]            |PACLITAXEL + CARBOPLATIN             |L1  |\n",
            "|PATID_001 |14-Sep-15 |CARBOPLATIN|0             |CHEMO|2015-09-14     |2015-09-14   |2014-01-30       |592         |1       |1              |[PACLITAXEL, CARBOPLATIN]            |PACLITAXEL + CARBOPLATIN             |L2  |\n",
            "|PATID_001 |14-Sep-15 |PACLITAXEL |0             |CHEMO|2015-09-14     |2015-09-14   |2015-09-14       |0           |0       |1              |[PACLITAXEL, CARBOPLATIN]            |PACLITAXEL + CARBOPLATIN             |L2  |\n",
            "|PATID_001 |8-Oct-15  |CARBOPLATIN|0             |CHEMO|2015-10-08     |2015-10-08   |2015-09-14       |24          |0       |1              |[PACLITAXEL, CARBOPLATIN]            |PACLITAXEL + CARBOPLATIN             |L2  |\n",
            "|PATID_001 |8-Oct-15  |PACLITAXEL |0             |CHEMO|2015-10-08     |2015-10-08   |2015-10-08       |0           |0       |1              |[PACLITAXEL, CARBOPLATIN]            |PACLITAXEL + CARBOPLATIN             |L2  |\n",
            "|PATID_001 |29-Oct-15 |CARBOPLATIN|0             |CHEMO|2015-10-29     |2015-10-29   |2015-10-08       |21          |0       |1              |[PACLITAXEL, CARBOPLATIN]            |PACLITAXEL + CARBOPLATIN             |L2  |\n",
            "|PATID_001 |29-Oct-15 |PACLITAXEL |0             |CHEMO|2015-10-29     |2015-10-29   |2015-10-29       |0           |0       |1              |[PACLITAXEL, CARBOPLATIN]            |PACLITAXEL + CARBOPLATIN             |L2  |\n",
            "|PATID_001 |19-Nov-15 |PACLITAXEL |0             |CHEMO|2015-11-19     |2015-11-19   |2015-10-29       |21          |0       |1              |[PACLITAXEL, CARBOPLATIN]            |PACLITAXEL + CARBOPLATIN             |L2  |\n",
            "|PATID_001 |19-Nov-15 |CARBOPLATIN|0             |CHEMO|2015-11-19     |2015-11-19   |2015-11-19       |0           |0       |1              |[PACLITAXEL, CARBOPLATIN]            |PACLITAXEL + CARBOPLATIN             |L2  |\n",
            "|PATID_001 |18-Apr-18 |LETROZOLE  |30            |HORMO|2018-04-18     |2018-04-18   |2015-11-19       |881         |1       |2              |[LETROZOLE]                          |LETROZOLE                            |L3  |\n",
            "|PATID_001 |22-June-18|CARBOPLATIN|0             |CHEMO|2018-06-22     |2018-06-22   |2018-04-18       |65          |1       |3              |[LIPOSOMAL, CARBOPLATIN, DOXORUBICIN]|LIPOSOMAL + CARBOPLATIN + DOXORUBICIN|L4  |\n",
            "|PATID_001 |22-June-18|LIPOSOMAL  |0             |CHEMO|2018-06-22     |2018-06-22   |2018-06-22       |0           |0       |3              |[LIPOSOMAL, CARBOPLATIN, DOXORUBICIN]|LIPOSOMAL + CARBOPLATIN + DOXORUBICIN|L4  |\n",
            "|PATID_001 |22-june-18|DOXORUBICIN|0             |CHEMO|2018-06-22     |2018-06-22   |2018-06-22       |0           |0       |3              |[LIPOSOMAL, CARBOPLATIN, DOXORUBICIN]|LIPOSOMAL + CARBOPLATIN + DOXORUBICIN|L4  |\n",
            "|PATID_001 |20-Nov-18 |OLAPARIB   |0             |OLAPA|2018-11-20     |2018-11-20   |2018-06-22       |151         |1       |4              |[OLAPARIB]                           |OLAPARIB                             |L5  |\n",
            "|PATID_001 |05-June-19|PACLITAXEL |0             |CHEMO|2019-06-05     |2019-06-05   |2018-11-20       |197         |1       |5              |[PACLITAXEL]                         |PACLITAXEL                           |L6  |\n",
            "+----------+----------+-----------+--------------+-----+---------------+-------------+-----------------+------------+--------+---------------+-------------------------------------+-------------------------------------+----+\n",
            "\n"
          ]
        }
      ]
    },
    {
      "cell_type": "markdown",
      "source": [
        "**Step 9 : Selecting Distinct Lines and generating the desired output**"
      ],
      "metadata": {
        "id": "zeVvCr7qXNSS"
      }
    },
    {
      "cell_type": "code",
      "source": [
        "# Selecting distinct lines to ensure each line is represented once\n",
        "result_df = df.select(\"patient_ID\", \"drug_start_date\", \"Line_regimen\", \"class\", \"Line\").distinct()\n",
        "\n",
        "# 'row_num' helps in filtering to get only the first occurrence of each line\n",
        "result_df = result_df.withColumn(\"row_num\", row_number().over(Window.partitionBy(\"patient_ID\", \"Line\").orderBy(\"drug_start_date\")))\n",
        "\n",
        "# Printing dataframe\n",
        "result_df.show(truncate=False)\n",
        "\n",
        "# Filtering to get the first entry per line to represent the start of each therapy line\n",
        "result_df = result_df.filter(col(\"row_num\") == 1).drop(\"row_num\")\n",
        "\n",
        "# Final output DataFrame\n",
        "result_df.show(truncate=False)"
      ],
      "metadata": {
        "colab": {
          "base_uri": "https://localhost:8080/"
        },
        "id": "fWyoRUnZVc2q",
        "outputId": "25fc6141-e1d2-490d-f9a3-434fd3a9ed32"
      },
      "execution_count": null,
      "outputs": [
        {
          "output_type": "stream",
          "name": "stdout",
          "text": [
            "+----------+---------------+-------------------------------------+-----+----+-------+\n",
            "|patient_ID|drug_start_date|Line_regimen                         |class|Line|row_num|\n",
            "+----------+---------------+-------------------------------------+-----+----+-------+\n",
            "|PATID_001 |2013-12-05     |PACLITAXEL + CARBOPLATIN             |CHEMO|L1  |1      |\n",
            "|PATID_001 |2013-12-31     |PACLITAXEL + CARBOPLATIN             |CHEMO|L1  |2      |\n",
            "|PATID_001 |2014-01-30     |PACLITAXEL + CARBOPLATIN             |CHEMO|L1  |3      |\n",
            "|PATID_001 |2015-09-14     |PACLITAXEL + CARBOPLATIN             |CHEMO|L2  |1      |\n",
            "|PATID_001 |2015-10-08     |PACLITAXEL + CARBOPLATIN             |CHEMO|L2  |2      |\n",
            "|PATID_001 |2015-10-29     |PACLITAXEL + CARBOPLATIN             |CHEMO|L2  |3      |\n",
            "|PATID_001 |2015-11-19     |PACLITAXEL + CARBOPLATIN             |CHEMO|L2  |4      |\n",
            "|PATID_001 |2018-04-18     |LETROZOLE                            |HORMO|L3  |1      |\n",
            "|PATID_001 |2018-06-22     |LIPOSOMAL + CARBOPLATIN + DOXORUBICIN|CHEMO|L4  |1      |\n",
            "|PATID_001 |2018-11-20     |OLAPARIB                             |OLAPA|L5  |1      |\n",
            "|PATID_001 |2019-06-05     |PACLITAXEL                           |CHEMO|L6  |1      |\n",
            "+----------+---------------+-------------------------------------+-----+----+-------+\n",
            "\n",
            "+----------+---------------+-------------------------------------+-----+----+\n",
            "|patient_ID|drug_start_date|Line_regimen                         |class|Line|\n",
            "+----------+---------------+-------------------------------------+-----+----+\n",
            "|PATID_001 |2013-12-05     |PACLITAXEL + CARBOPLATIN             |CHEMO|L1  |\n",
            "|PATID_001 |2015-09-14     |PACLITAXEL + CARBOPLATIN             |CHEMO|L2  |\n",
            "|PATID_001 |2018-04-18     |LETROZOLE                            |HORMO|L3  |\n",
            "|PATID_001 |2018-06-22     |LIPOSOMAL + CARBOPLATIN + DOXORUBICIN|CHEMO|L4  |\n",
            "|PATID_001 |2018-11-20     |OLAPARIB                             |OLAPA|L5  |\n",
            "|PATID_001 |2019-06-05     |PACLITAXEL                           |CHEMO|L6  |\n",
            "+----------+---------------+-------------------------------------+-----+----+\n",
            "\n"
          ]
        }
      ]
    }
  ]
}